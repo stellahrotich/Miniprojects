{
  "nbformat": 4,
  "nbformat_minor": 0,
  "metadata": {
    "colab": {
      "name": "60minblitzpytorch.ipynb",
      "version": "0.3.2",
      "provenance": [],
      "collapsed_sections": [],
      "include_colab_link": true
    },
    "kernelspec": {
      "name": "python3",
      "display_name": "Python 3"
    }
  },
  "cells": [
    {
      "cell_type": "markdown",
      "metadata": {
        "id": "view-in-github",
        "colab_type": "text"
      },
      "source": [
        "<a href=\"https://colab.research.google.com/github/stellahrotich/helloworld/blob/master/60minblitzpytorch.ipynb\" target=\"_parent\"><img src=\"https://colab.research.google.com/assets/colab-badge.svg\" alt=\"Open In Colab\"/></a>"
      ]
    },
    {
      "metadata": {
        "id": "Tpi2Llqjk6Xm",
        "colab_type": "text"
      },
      "cell_type": "markdown",
      "source": [
        "## **Getting Started with PyTorch**"
      ]
    },
    {
      "metadata": {
        "id": "WRSolcSjctx9",
        "colab_type": "code",
        "colab": {}
      },
      "cell_type": "code",
      "source": [
        "#importing torch library\n",
        "from __future__ import print_function\n",
        "import torch"
      ],
      "execution_count": 0,
      "outputs": []
    },
    {
      "metadata": {
        "id": "mJusCY-_k6VN",
        "colab_type": "text"
      },
      "cell_type": "markdown",
      "source": [
        "\n",
        "\n",
        "*   List item\n",
        "*   List item\n",
        "\n"
      ]
    },
    {
      "metadata": {
        "id": "FlXQ3e1kdURl",
        "colab_type": "code",
        "outputId": "41e7f32d-4742-451a-cecf-c9eed5586de5",
        "colab": {
          "base_uri": "https://localhost:8080/",
          "height": 109
        }
      },
      "cell_type": "code",
      "source": [
        "#construct a  5x3 matrix\n",
        "x = torch.empty(5,3)\n",
        "print(x)"
      ],
      "execution_count": 0,
      "outputs": [
        {
          "output_type": "stream",
          "text": [
            "tensor([[1.6927e-35, 0.0000e+00, 0.0000e+00],\n",
            "        [0.0000e+00, 0.0000e+00, 0.0000e+00],\n",
            "        [0.0000e+00, 0.0000e+00, 0.0000e+00],\n",
            "        [0.0000e+00, 0.0000e+00, 0.0000e+00],\n",
            "        [0.0000e+00, 0.0000e+00, 0.0000e+00]])\n"
          ],
          "name": "stdout"
        }
      ]
    },
    {
      "metadata": {
        "id": "F9cEph63dhht",
        "colab_type": "code",
        "outputId": "12e085fd-4964-4910-94c0-2243143d4dc8",
        "colab": {
          "base_uri": "https://localhost:8080/",
          "height": 109
        }
      },
      "cell_type": "code",
      "source": [
        "#construct a randomly initialized matric\n",
        "x = torch.rand(5,3)\n",
        "print(x)"
      ],
      "execution_count": 0,
      "outputs": [
        {
          "output_type": "stream",
          "text": [
            "tensor([[0.8468, 0.7216, 0.4301],\n",
            "        [0.1638, 0.0348, 0.1028],\n",
            "        [0.6381, 0.9211, 0.7696],\n",
            "        [0.8861, 0.2702, 0.1477],\n",
            "        [0.2395, 0.2558, 0.9962]])\n"
          ],
          "name": "stdout"
        }
      ]
    },
    {
      "metadata": {
        "id": "Bg-XM93VeWK3",
        "colab_type": "code",
        "outputId": "94091542-7892-4613-ad67-d80e2fb3bd48",
        "colab": {
          "base_uri": "https://localhost:8080/",
          "height": 109
        }
      },
      "cell_type": "code",
      "source": [
        "#Construict a matrix filled with zeros\n",
        "x = torch.zeros(5,3,dtype = torch.long)\n",
        "print(x)"
      ],
      "execution_count": 0,
      "outputs": [
        {
          "output_type": "stream",
          "text": [
            "tensor([[0, 0, 0],\n",
            "        [0, 0, 0],\n",
            "        [0, 0, 0],\n",
            "        [0, 0, 0],\n",
            "        [0, 0, 0]])\n"
          ],
          "name": "stdout"
        }
      ]
    },
    {
      "metadata": {
        "id": "B0uqEHJNer0c",
        "colab_type": "code",
        "outputId": "75ece18f-68cf-4049-c0d1-5bcb7f140943",
        "colab": {
          "base_uri": "https://localhost:8080/",
          "height": 35
        }
      },
      "cell_type": "code",
      "source": [
        "#construct a tensor directly form data\n",
        "x = torch.tensor([5.5,3])\n",
        "print(x)"
      ],
      "execution_count": 0,
      "outputs": [
        {
          "output_type": "stream",
          "text": [
            "tensor([5.5000, 3.0000])\n"
          ],
          "name": "stdout"
        }
      ]
    },
    {
      "metadata": {
        "id": "dpRys3wMe48B",
        "colab_type": "code",
        "outputId": "30f806aa-7c1f-4e29-dbd2-39372873f646",
        "colab": {
          "base_uri": "https://localhost:8080/",
          "height": 201
        }
      },
      "cell_type": "code",
      "source": [
        "#create a tensor based on an existing tensor. \n",
        "#These methods will reuse properties of the input tensor,\n",
        "#e.g. dtype, unless new values are provided by user\n",
        "x = x.new_ones(5, 3, dtype=torch.double)   \n",
        "print(x)\n",
        "x = torch.randn_like(x, dtype=torch.float)\n",
        "print(x)"
      ],
      "execution_count": 0,
      "outputs": [
        {
          "output_type": "stream",
          "text": [
            "tensor([[1., 1., 1.],\n",
            "        [1., 1., 1.],\n",
            "        [1., 1., 1.],\n",
            "        [1., 1., 1.],\n",
            "        [1., 1., 1.]], dtype=torch.float64)\n",
            "tensor([[-1.0559,  0.7545, -1.3120],\n",
            "        [ 0.2643, -0.9567,  0.7988],\n",
            "        [-0.4192,  1.1943, -0.6857],\n",
            "        [ 0.0404,  1.3631, -0.4557],\n",
            "        [-1.2609,  0.0316,  0.9683]])\n"
          ],
          "name": "stdout"
        }
      ]
    },
    {
      "metadata": {
        "id": "nLDr2v6zfeO1",
        "colab_type": "code",
        "outputId": "caa6d2f9-b7fe-4bec-9bd0-262e93a5f519",
        "colab": {
          "base_uri": "https://localhost:8080/",
          "height": 35
        }
      },
      "cell_type": "code",
      "source": [
        "#Getting the size of a tensor\n",
        "print(x.size())"
      ],
      "execution_count": 0,
      "outputs": [
        {
          "output_type": "stream",
          "text": [
            "torch.Size([5, 3])\n"
          ],
          "name": "stdout"
        }
      ]
    },
    {
      "metadata": {
        "id": "1CryYcRrgM4-",
        "colab_type": "text"
      },
      "cell_type": "markdown",
      "source": [
        "## **Operations on Tensors**"
      ]
    },
    {
      "metadata": {
        "id": "nHpTgJmFgMFi",
        "colab_type": "code",
        "outputId": "509fbd18-fe03-445c-815a-2777019b61d6",
        "colab": {
          "base_uri": "https://localhost:8080/",
          "height": 109
        }
      },
      "cell_type": "code",
      "source": [
        "#Addition syntax1\n",
        "y = torch.rand(5, 3)\n",
        "print(x + y)"
      ],
      "execution_count": 0,
      "outputs": [
        {
          "output_type": "stream",
          "text": [
            "tensor([[-0.2149,  1.3841, -0.9026],\n",
            "        [ 0.5238, -0.6603,  1.1013],\n",
            "        [ 0.4593,  1.6979, -0.3831],\n",
            "        [ 0.2627,  2.3185, -0.0737],\n",
            "        [-0.3637,  0.8428,  1.3279]])\n"
          ],
          "name": "stdout"
        }
      ]
    },
    {
      "metadata": {
        "id": "sovRxaOJgMD7",
        "colab_type": "code",
        "outputId": "eb4bbdd7-400f-4249-a13e-ad121b3bb280",
        "colab": {
          "base_uri": "https://localhost:8080/",
          "height": 109
        }
      },
      "cell_type": "code",
      "source": [
        "#Addition syntax2\n",
        "print(torch.add(x, y))"
      ],
      "execution_count": 0,
      "outputs": [
        {
          "output_type": "stream",
          "text": [
            "tensor([[-0.2149,  1.3841, -0.9026],\n",
            "        [ 0.5238, -0.6603,  1.1013],\n",
            "        [ 0.4593,  1.6979, -0.3831],\n",
            "        [ 0.2627,  2.3185, -0.0737],\n",
            "        [-0.3637,  0.8428,  1.3279]])\n"
          ],
          "name": "stdout"
        }
      ]
    },
    {
      "metadata": {
        "id": "G3-Y-0wegMBp",
        "colab_type": "code",
        "outputId": "5229dde5-5039-4708-a813-5bb754d0d6c6",
        "colab": {
          "base_uri": "https://localhost:8080/",
          "height": 109
        }
      },
      "cell_type": "code",
      "source": [
        "#Addition: providing an output tensor as argument\n",
        "result = torch.empty(5,3)\n",
        "torch.add(x,y,out = result)\n",
        "print(result)"
      ],
      "execution_count": 0,
      "outputs": [
        {
          "output_type": "stream",
          "text": [
            "tensor([[-0.2149,  1.3841, -0.9026],\n",
            "        [ 0.5238, -0.6603,  1.1013],\n",
            "        [ 0.4593,  1.6979, -0.3831],\n",
            "        [ 0.2627,  2.3185, -0.0737],\n",
            "        [-0.3637,  0.8428,  1.3279]])\n"
          ],
          "name": "stdout"
        }
      ]
    },
    {
      "metadata": {
        "id": "7LPOoz3RhlN8",
        "colab_type": "code",
        "outputId": "2b1a2b92-1bf3-4e2e-b1eb-4a4be959ded1",
        "colab": {
          "base_uri": "https://localhost:8080/",
          "height": 109
        }
      },
      "cell_type": "code",
      "source": [
        "#Addition:In place\n",
        "#Add x to y\n",
        "y.add_(x)\n",
        "print(y)"
      ],
      "execution_count": 0,
      "outputs": [
        {
          "output_type": "stream",
          "text": [
            "tensor([[-0.2149,  1.3841, -0.9026],\n",
            "        [ 0.5238, -0.6603,  1.1013],\n",
            "        [ 0.4593,  1.6979, -0.3831],\n",
            "        [ 0.2627,  2.3185, -0.0737],\n",
            "        [-0.3637,  0.8428,  1.3279]])\n"
          ],
          "name": "stdout"
        }
      ]
    },
    {
      "metadata": {
        "id": "cpb-IyB3h8_5",
        "colab_type": "code",
        "colab": {}
      },
      "cell_type": "code",
      "source": [
        ""
      ],
      "execution_count": 0,
      "outputs": []
    },
    {
      "metadata": {
        "id": "P1q73vq5h9C9",
        "colab_type": "code",
        "outputId": "fceeabab-769e-4100-d685-5aba2beb492b",
        "colab": {
          "base_uri": "https://localhost:8080/",
          "height": 35
        }
      },
      "cell_type": "code",
      "source": [
        "x = torch.randn(4, 4)\n",
        "y = x.view(16)\n",
        "z = x.view(-1, 8)  # the size -1 is inferred from other dimensions\n",
        "print(x.size(), y.size(), z.size())"
      ],
      "execution_count": 0,
      "outputs": [
        {
          "output_type": "stream",
          "text": [
            "torch.Size([4, 4]) torch.Size([16]) torch.Size([2, 8])\n"
          ],
          "name": "stdout"
        }
      ]
    },
    {
      "metadata": {
        "id": "YL5n4oxWiOPF",
        "colab_type": "code",
        "outputId": "4fd49c1e-6c00-4165-c4b1-cc5a3c7bc9b5",
        "colab": {
          "base_uri": "https://localhost:8080/",
          "height": 54
        }
      },
      "cell_type": "code",
      "source": [
        "#To get the value of a tensor as a python number use .item()\n",
        "x = torch.randn(1)\n",
        "print(x)\n",
        "print(x.item())"
      ],
      "execution_count": 0,
      "outputs": [
        {
          "output_type": "stream",
          "text": [
            "tensor([0.2696])\n",
            "0.2695715129375458\n"
          ],
          "name": "stdout"
        }
      ]
    },
    {
      "metadata": {
        "id": "3_UbCYrvih1A",
        "colab_type": "text"
      },
      "cell_type": "markdown",
      "source": [
        "## **Read on 100+ Tensor operations, including transposing, indexing, slicing, mathematical operations, linear algebra, random numbers,**"
      ]
    },
    {
      "metadata": {
        "id": "jO1BwE9RiOM8",
        "colab_type": "code",
        "outputId": "80d96d6d-1142-4d2b-ff23-6c2d8c23e576",
        "colab": {
          "base_uri": "https://localhost:8080/",
          "height": 54
        }
      },
      "cell_type": "code",
      "source": [
        "#Converting a torch tensor to NumPy Array\n",
        "a = torch.ones(5)\n",
        "print(a)\n",
        "b = a.numpy()\n",
        "print(b)"
      ],
      "execution_count": 0,
      "outputs": [
        {
          "output_type": "stream",
          "text": [
            "tensor([1., 1., 1., 1., 1.])\n",
            "[1. 1. 1. 1. 1.]\n"
          ],
          "name": "stdout"
        }
      ]
    },
    {
      "metadata": {
        "id": "WpLd6DUGjSis",
        "colab_type": "code",
        "outputId": "44b9aff1-7040-487b-8825-15d045f1bc9c",
        "colab": {
          "base_uri": "https://localhost:8080/",
          "height": 54
        }
      },
      "cell_type": "code",
      "source": [
        "a.add_(1)\n",
        "print(a)\n",
        "print(b)"
      ],
      "execution_count": 0,
      "outputs": [
        {
          "output_type": "stream",
          "text": [
            "tensor([2., 2., 2., 2., 2.])\n",
            "[2. 2. 2. 2. 2.]\n"
          ],
          "name": "stdout"
        }
      ]
    },
    {
      "metadata": {
        "id": "MH6FrhZejWhr",
        "colab_type": "code",
        "outputId": "33468a13-0eb9-4812-eea3-d60ecc7f73be",
        "colab": {
          "base_uri": "https://localhost:8080/",
          "height": 54
        }
      },
      "cell_type": "code",
      "source": [
        "#Converting NumPy Arrays to Tensors\n",
        "import numpy as np\n",
        "a = np.ones(5)\n",
        "b = torch.from_numpy(a)\n",
        "np.add(a, 1, out=a)\n",
        "print(a)\n",
        "print(b)"
      ],
      "execution_count": 0,
      "outputs": [
        {
          "output_type": "stream",
          "text": [
            "[2. 2. 2. 2. 2.]\n",
            "tensor([2., 2., 2., 2., 2.], dtype=torch.float64)\n"
          ],
          "name": "stdout"
        }
      ]
    },
    {
      "metadata": {
        "id": "mvvt_NEhj2La",
        "colab_type": "code",
        "colab": {}
      },
      "cell_type": "code",
      "source": [
        "# let us run this cell only if CUDA is available\n",
        "# We will use ``torch.device`` objects to move tensors in and out of GPU\n",
        "if torch.cuda.is_available():\n",
        "    device = torch.device(\"cuda\")          # a CUDA device object\n",
        "    y = torch.ones_like(x, device=device)  # directly create a tensor on GPU\n",
        "    x = x.to(device)                       # or just use strings ``.to(\"cuda\")``\n",
        "    z = x + y\n",
        "    print(z)\n",
        "    print(z.to(\"cpu\", torch.double))       # ``.to`` can also change dtype together!"
      ],
      "execution_count": 0,
      "outputs": []
    },
    {
      "metadata": {
        "id": "4dGSSbw0ksIW",
        "colab_type": "text"
      },
      "cell_type": "markdown",
      "source": [
        "# **AUTOGRAD:Automatic** **Differentiation**\n"
      ]
    },
    {
      "metadata": {
        "id": "pv23Vecuk4l9",
        "colab_type": "code",
        "colab": {}
      },
      "cell_type": "code",
      "source": [
        "import torch"
      ],
      "execution_count": 0,
      "outputs": []
    },
    {
      "metadata": {
        "id": "c2PUxiKWl0Xc",
        "colab_type": "code",
        "outputId": "db617242-26b0-4c2f-a73f-677f804defc0",
        "colab": {
          "base_uri": "https://localhost:8080/",
          "height": 54
        }
      },
      "cell_type": "code",
      "source": [
        "#Create a tensor and set requires_grad to be true\n",
        "x = torch.ones(2,2, requires_grad = True)\n",
        "print(x)"
      ],
      "execution_count": 0,
      "outputs": [
        {
          "output_type": "stream",
          "text": [
            "tensor([[1., 1.],\n",
            "        [1., 1.]], requires_grad=True)\n"
          ],
          "name": "stdout"
        }
      ]
    },
    {
      "metadata": {
        "id": "__edomTlmKdM",
        "colab_type": "code",
        "outputId": "ccb705a1-d926-4768-bd7e-b3ef7b8e0513",
        "colab": {
          "base_uri": "https://localhost:8080/",
          "height": 54
        }
      },
      "cell_type": "code",
      "source": [
        "y = x + 2\n",
        "print(y)"
      ],
      "execution_count": 0,
      "outputs": [
        {
          "output_type": "stream",
          "text": [
            "tensor([[3., 3.],\n",
            "        [3., 3.]], grad_fn=<AddBackward0>)\n"
          ],
          "name": "stdout"
        }
      ]
    },
    {
      "metadata": {
        "id": "Rbvk4vCDmOcZ",
        "colab_type": "code",
        "outputId": "8debc1c2-3aa3-42d3-904a-611b516ec080",
        "colab": {
          "base_uri": "https://localhost:8080/",
          "height": 35
        }
      },
      "cell_type": "code",
      "source": [
        "\n",
        "#y was created as a result of an operation, so it has a grad_fn.\n",
        "print(y.grad_fn)"
      ],
      "execution_count": 0,
      "outputs": [
        {
          "output_type": "stream",
          "text": [
            "<AddBackward0 object at 0x7fc880b8c9b0>\n"
          ],
          "name": "stdout"
        }
      ]
    },
    {
      "metadata": {
        "id": "yXTpEjw0ml0F",
        "colab_type": "code",
        "outputId": "be296015-a017-49b0-83b8-5e14a1fa059c",
        "colab": {
          "base_uri": "https://localhost:8080/",
          "height": 54
        }
      },
      "cell_type": "code",
      "source": [
        "z = y * y * 3\n",
        "out = z.mean()\n",
        "\n",
        "print(z, out)"
      ],
      "execution_count": 0,
      "outputs": [
        {
          "output_type": "stream",
          "text": [
            "tensor([[27., 27.],\n",
            "        [27., 27.]], grad_fn=<MulBackward0>) tensor(27., grad_fn=<MeanBackward1>)\n"
          ],
          "name": "stdout"
        }
      ]
    },
    {
      "metadata": {
        "id": "UAG6In1fm3GP",
        "colab_type": "code",
        "outputId": "d197fc8a-2ac8-4327-b9f1-13ec042229a5",
        "colab": {
          "base_uri": "https://localhost:8080/",
          "height": 72
        }
      },
      "cell_type": "code",
      "source": [
        "#.requires_grad_( ... ) changes an existing Tensor’s requires_grad flag in-place. \n",
        "#The input flag defaults to False if not given.\n",
        "a = torch.randn(2, 2)\n",
        "a = ((a * 3) / (a - 1))\n",
        "print(a.requires_grad)\n",
        "a.requires_grad_(True)\n",
        "print(a.requires_grad)\n",
        "b = (a * a).sum()\n",
        "print(b.grad_fn)"
      ],
      "execution_count": 0,
      "outputs": [
        {
          "output_type": "stream",
          "text": [
            "False\n",
            "True\n",
            "<SumBackward0 object at 0x7fc8c0dded30>\n"
          ],
          "name": "stdout"
        }
      ]
    },
    {
      "metadata": {
        "id": "-XaBREsXnKir",
        "colab_type": "code",
        "outputId": "f53e8ea4-aa7d-4122-b11e-9f262015cadd",
        "colab": {
          "base_uri": "https://localhost:8080/",
          "height": 54
        }
      },
      "cell_type": "code",
      "source": [
        "print(x.grad)\n"
      ],
      "execution_count": 0,
      "outputs": [
        {
          "output_type": "stream",
          "text": [
            "tensor([[4.5000, 4.5000],\n",
            "        [4.5000, 4.5000]])\n"
          ],
          "name": "stdout"
        }
      ]
    },
    {
      "metadata": {
        "id": "ssK53Ux9nVNs",
        "colab_type": "code",
        "outputId": "48d2afce-5b7a-4cc7-b28e-3ae39a40de16",
        "colab": {
          "base_uri": "https://localhost:8080/",
          "height": 35
        }
      },
      "cell_type": "code",
      "source": [
        "x = torch.randn(3, requires_grad=True)\n",
        "\n",
        "y = x * 2\n",
        "while y.data.norm() < 1000:\n",
        "    y = y * 2\n",
        "\n",
        "print(y)"
      ],
      "execution_count": 0,
      "outputs": [
        {
          "output_type": "stream",
          "text": [
            "tensor([1079.3850, 1546.2570,  442.3533], grad_fn=<MulBackward0>)\n"
          ],
          "name": "stdout"
        }
      ]
    },
    {
      "metadata": {
        "id": "5_ksNGW7oOtJ",
        "colab_type": "code",
        "outputId": "60b5c334-6a06-4263-b968-1d1e1716ac8d",
        "colab": {
          "base_uri": "https://localhost:8080/",
          "height": 35
        }
      },
      "cell_type": "code",
      "source": [
        "v = torch.tensor([0.1, 1.0, 0.0001], dtype=torch.float)\n",
        "y.backward(v)\n",
        "\n",
        "print(x.grad)"
      ],
      "execution_count": 0,
      "outputs": [
        {
          "output_type": "stream",
          "text": [
            "tensor([1.0240e+02, 1.0240e+03, 1.0240e-01])\n"
          ],
          "name": "stdout"
        }
      ]
    },
    {
      "metadata": {
        "id": "1SDgQd07oWZ5",
        "colab_type": "code",
        "outputId": "33663708-0922-4d77-e123-f3fe56fa12c5",
        "colab": {
          "base_uri": "https://localhost:8080/",
          "height": 72
        }
      },
      "cell_type": "code",
      "source": [
        "#stop autograd from tracking history on Tensors with .requires_grad=True by\n",
        "#wrapping the code block in with torch.no_grad():\n",
        "print(x.requires_grad)\n",
        "print((x ** 2).requires_grad)\n",
        "\n",
        "with torch.no_grad():\n",
        "    print((x ** 2).requires_grad)"
      ],
      "execution_count": 0,
      "outputs": [
        {
          "output_type": "stream",
          "text": [
            "True\n",
            "True\n",
            "False\n"
          ],
          "name": "stdout"
        }
      ]
    }
  ]
}